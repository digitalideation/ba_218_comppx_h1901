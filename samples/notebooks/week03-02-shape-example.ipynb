{
 "cells": [
  {
   "cell_type": "markdown",
   "metadata": {},
   "source": [
    "# Reference\n",
    "\n",
    "To run this code you will need to install [Matplotlib](https://matplotlib.org/users/installing.html) and [Numpy](https://www.scipy.org/install.html)\n",
    "\n",
    "If you like to run the example locally follow the instructions provided on [Keras website](https://keras.io/#installation)\n",
    "\n",
    "It's __strongly__ suggested to use a Python environments manager such as [Conda](https://conda.io/docs/) or some kind of [VirutalEnv](#)\n",
    "\n",
    "---"
   ]
  },
  {
   "cell_type": "code",
   "execution_count": 1,
   "metadata": {},
   "outputs": [
    {
     "name": "stderr",
     "output_type": "stream",
     "text": [
      "Using TensorFlow backend.\n"
     ]
    },
    {
     "data": {
      "text/plain": [
       "'2.2.2'"
      ]
     },
     "execution_count": 1,
     "metadata": {},
     "output_type": "execute_result"
    }
   ],
   "source": [
    "import keras\n",
    "keras.__version__"
   ]
  },
  {
   "cell_type": "markdown",
   "metadata": {},
   "source": [
    "# A second look at a neural network\n",
    "\n",
    "Let's try to adapt the shape classification model built with the `toyNN` in js before.\n",
    "\n",
    "We first need to create a dataset _manually_ to do we will define a `draw_shape` function that will help generating some random shape"
   ]
  },
  {
   "cell_type": "code",
   "execution_count": 4,
   "metadata": {},
   "outputs": [],
   "source": [
    "import math\n",
    "import random\n",
    "import matplotlib.pyplot as plt\n",
    "import numpy as np\n",
    "\n",
    "# 0 = rectangle, 1 = triangle, 2 = ellipse\n",
    "# return shape\n",
    "def draw_shape(max_size, type):\n",
    "    \n",
    "    # Random size and fixed coordinate\n",
    "#     s = math.floor(random.randrange(1, max_size-4))\n",
    "#     x = math.floor(max_size/2)\n",
    "#     y = math.floor(max_size/2)\n",
    "\n",
    "    # Not so random size and random coordinate\n",
    "    s = int(random.randrange(max_size/2, max_size))\n",
    "    x = int(random.randrange(int(s/2), max_size-int(s/2)))\n",
    "    y = int(random.randrange(int(s/2), max_size-int(s/2)))\n",
    "\n",
    "    type = type%3\n",
    "    \n",
    "    if type == 0:\n",
    "        art = plt.Rectangle((x-s/2, y-s/2), s, s, color='r')\n",
    "\n",
    "    if type == 1:\n",
    "        verts = [\n",
    "            (x-s/2, y-s/2),\n",
    "            (x, y+s/2),\n",
    "            (x+s/2, y-s/2)\n",
    "        ]\n",
    "        art = plt.Polygon(verts, color='r')\n",
    "\n",
    "    if type == 2:\n",
    "        art = plt.Circle((x, y), s/2, color='r')\n",
    "    \n",
    "    return art"
   ]
  },
  {
   "cell_type": "markdown",
   "metadata": {},
   "source": [
    "We also define a helper function that convert a matplotlib figure to a np array"
   ]
  },
  {
   "cell_type": "code",
   "execution_count": 5,
   "metadata": {},
   "outputs": [],
   "source": [
    "# https://stackoverflow.com/a/7821917\n",
    "def fig2rgb_array(fig):\n",
    "    fig.canvas.draw()\n",
    "    buf = fig.canvas.tostring_rgb()\n",
    "    ncols, nrows = fig.canvas.get_width_height()\n",
    "    return np.frombuffer(buf, dtype=np.uint8).reshape(nrows, ncols, 3)"
   ]
  },
  {
   "cell_type": "markdown",
   "metadata": {},
   "source": [
    "Let's test the function see if it works as expected"
   ]
  },
  {
   "cell_type": "code",
   "execution_count": 6,
   "metadata": {},
   "outputs": [
    {
     "name": "stdout",
     "output_type": "stream",
     "text": [
      "(48, 48, 3)\n"
     ]
    },
    {
     "data": {
      "image/png": "[encoded data removed]",
      "text/plain": [
       "<Figure size 48x48 with 1 Axes>"
      ]
     },
     "metadata": {
      "needs_background": "light"
     },
     "output_type": "display_data"
    }
   ],
   "source": [
    "# Image and dataset size we are going to use\n",
    "image_size = 48\n",
    "dataset_size = 5000\n",
    "\n",
    "# Create plot's figure and axes\n",
    "# https://stackoverflow.com/a/638443\n",
    "fig = plt.figure(figsize=(1,1), dpi=image_size)\n",
    "ax = fig.add_subplot(111)\n",
    "\n",
    "# Setting for the axes\n",
    "ax.set_xlim(0,image_size)\n",
    "ax.set_ylim(0,image_size)\n",
    "# ax.axis('off')\n",
    "\n",
    "# Draw a random shape\n",
    "art = draw_shape(image_size,random.randint(0,2))\n",
    "# Add the shape to the plot\n",
    "# https://stackoverflow.com/a/29184075\n",
    "plt.gcf().gca().add_artist(art)\n",
    "# gcf() means Get Current Figure\n",
    "# gca() means Get Current Axis\n",
    "\n",
    "# convert the figure to an array\n",
    "data = fig2rgb_array(fig)\n",
    "print(data.shape)"
   ]
  },
  {
   "cell_type": "markdown",
   "metadata": {},
   "source": [
    "Let's create a loop that will generate a small dataset for us"
   ]
  },
  {
   "cell_type": "code",
   "execution_count": 7,
   "metadata": {},
   "outputs": [
    {
     "name": "stdout",
     "output_type": "stream",
     "text": [
      "(5000, 48, 48, 3)\n",
      "(5000,)\n"
     ]
    },
    {
     "data": {
      "image/png": "[encoded data removed]",
      "text/plain": [
       "<Figure size 48x48 with 1 Axes>"
      ]
     },
     "metadata": {
      "needs_background": "light"
     },
     "output_type": "display_data"
    }
   ],
   "source": [
    "def generate_dataset(image_size, dataset_size):\n",
    "\n",
    "    # Those variable will contain the images and associated labels\n",
    "    images = np.zeros((dataset_size, image_size, image_size, 3))\n",
    "    labels = np.zeros((dataset_size))\n",
    "    \n",
    "    # The plot figure we will use to generate the shapes\n",
    "    fig = plt.figure(figsize=(1,1), dpi=image_size)\n",
    "\n",
    "    for i in range(dataset_size):\n",
    "        \n",
    "        # Clear the figure\n",
    "        fig.clf()\n",
    "        \n",
    "        # Recreate the axes\n",
    "        ax = fig.add_subplot(111)\n",
    "        ax.set_xlim(0, image_size)\n",
    "        ax.set_ylim(0, image_size)\n",
    "        ax.axis('off')\n",
    "        \n",
    "        # Define label\n",
    "        label = i%3\n",
    "        art = draw_shape(image_size, label)\n",
    "        plt.gcf().gca().add_artist(art)\n",
    "        \n",
    "        # Add values to the arrays\n",
    "        images[i] = fig2rgb_array(fig)\n",
    "        labels[i] = label\n",
    "        \n",
    "    return images, labels\n",
    "\n",
    "# Generate our dataset\n",
    "images, labels = generate_dataset(image_size, dataset_size)\n",
    "print(images.shape)\n",
    "print(labels.shape)"
   ]
  },
  {
   "cell_type": "markdown",
   "metadata": {},
   "source": [
    "Eventually we can save our dataset for later, since it takes quite some time to generate it 😉"
   ]
  },
  {
   "cell_type": "code",
   "execution_count": 24,
   "metadata": {},
   "outputs": [],
   "source": [
    "# np.save('datasets/shape-example-shapes4.npy', images)\n",
    "# np.save('datasets/shape-example-labels1.npy', labels)"
   ]
  },
  {
   "cell_type": "markdown",
   "metadata": {},
   "source": [
    "If we need to load it we can then use the following code"
   ]
  },
  {
   "cell_type": "code",
   "execution_count": 8,
   "metadata": {},
   "outputs": [],
   "source": [
    "images = np.load('datasets/shape-example-shapes1.npy')\n",
    "labels = np.load('datasets/shape-example-labels1.npy')"
   ]
  },
  {
   "cell_type": "markdown",
   "metadata": {},
   "source": [
    "We split our dataset manually in training and testing set"
   ]
  },
  {
   "cell_type": "code",
   "execution_count": 9,
   "metadata": {},
   "outputs": [
    {
     "name": "stdout",
     "output_type": "stream",
     "text": [
      "(4000, 48, 48, 3)\n",
      "(4000,)\n"
     ]
    },
    {
     "data": {
      "text/plain": [
       "<matplotlib.image.AxesImage at 0x7ff86617e908>"
      ]
     },
     "execution_count": 9,
     "metadata": {},
     "output_type": "execute_result"
    },
    {
     "data": {
      "image/png": "[encoded data removed]",
      "text/plain": [
       "<Figure size 1152x288 with 1 Axes>"
      ]
     },
     "metadata": {
      "needs_background": "light"
     },
     "output_type": "display_data"
    }
   ],
   "source": [
    "# Define the size of the training set, here we use 80% of the total samples for training\n",
    "train_size = int(dataset_size*.8)\n",
    "\n",
    "# TODO: We should shuffle the dataset\n",
    "\n",
    "# Split the dataset into train and test dataset\n",
    "train_images, test_images = images[:train_size], images[train_size:]\n",
    "train_labels, test_labels = labels[:train_size], labels[train_size:]\n",
    "\n",
    "# Verify the data\n",
    "print(train_images.shape)\n",
    "print(train_labels.shape)\n",
    "\n",
    "# sample_images = []\n",
    "# for label, image in list(zip(train_labels, train_images))[:10]:\n",
    "#     fig1, ax1 = plt.subplots()\n",
    "#     ax1.axis('off')\n",
    "#     plt.title(label)\n",
    "#     fig1.add_subplot(111).imshow(image/255)\n",
    "\n",
    "full_image = np.concatenate(train_images[:12]/255, axis=1)\n",
    "plt.figure(figsize=(16,4))\n",
    "plt.imshow(full_image)"
   ]
  },
  {
   "cell_type": "markdown",
   "metadata": {},
   "source": [
    "Now we can create our model"
   ]
  },
  {
   "cell_type": "code",
   "execution_count": 10,
   "metadata": {},
   "outputs": [],
   "source": [
    "from keras import models\n",
    "from keras import layers\n",
    "\n",
    "network = models.Sequential()\n",
    "network.add(layers.Dense(512, activation='sigmoid', input_shape=(3 * image_size * image_size,)))\n",
    "network.add(layers.Dense(3, activation='softmax'))"
   ]
  },
  {
   "cell_type": "markdown",
   "metadata": {},
   "source": [
    "And compile it"
   ]
  },
  {
   "cell_type": "code",
   "execution_count": 11,
   "metadata": {},
   "outputs": [],
   "source": [
    "network.compile(optimizer='adam',\n",
    "                loss='categorical_crossentropy',\n",
    "                metrics=['accuracy'])"
   ]
  },
  {
   "cell_type": "markdown",
   "metadata": {},
   "source": [
    "Before training, we will preprocess our data by reshaping it into the shape that the network expects, and scaling it so that all values are in the `[0, 1]` interval. Then we also need to categorically encode the labels."
   ]
  },
  {
   "cell_type": "code",
   "execution_count": 12,
   "metadata": {},
   "outputs": [],
   "source": [
    "# Reshape data\n",
    "train_images = train_images.reshape((len(train_images), 3 * image_size * image_size))\n",
    "train_images = train_images.astype('float32') / 255\n",
    "\n",
    "test_images = test_images.reshape((len(test_images), 3 * image_size * image_size))\n",
    "test_images = test_images.astype('float32') / 255\n",
    "\n",
    "# Encode to categorical\n",
    "from keras.utils import to_categorical\n",
    "\n",
    "train_labels = to_categorical(train_labels)\n",
    "test_labels = to_categorical(test_labels)"
   ]
  },
  {
   "cell_type": "markdown",
   "metadata": {},
   "source": [
    "Then we can start the training"
   ]
  },
  {
   "cell_type": "code",
   "execution_count": 13,
   "metadata": {},
   "outputs": [
    {
     "name": "stdout",
     "output_type": "stream",
     "text": [
      "Epoch 1/100\n",
      "4000/4000 [==============================] - 1s 305us/step - loss: 3.0858 - acc: 0.5390\n",
      "Epoch 2/100\n",
      "4000/4000 [==============================] - 1s 251us/step - loss: 0.8969 - acc: 0.5132\n",
      "Epoch 3/100\n",
      "4000/4000 [==============================] - 1s 254us/step - loss: 0.7222 - acc: 0.8145\n",
      "Epoch 4/100\n",
      "4000/4000 [==============================] - 1s 264us/step - loss: 0.6137 - acc: 0.8662\n",
      "Epoch 5/100\n",
      "4000/4000 [==============================] - 1s 270us/step - loss: 0.5170 - acc: 0.8982\n",
      "Epoch 6/100\n",
      "4000/4000 [==============================] - 1s 254us/step - loss: 0.4613 - acc: 0.8958\n",
      "Epoch 7/100\n",
      "4000/4000 [==============================] - 1s 271us/step - loss: 0.3942 - acc: 0.9143\n",
      "Epoch 8/100\n",
      "4000/4000 [==============================] - 1s 295us/step - loss: 0.3597 - acc: 0.9130\n",
      "Epoch 9/100\n",
      "4000/4000 [==============================] - 1s 252us/step - loss: 0.3164 - acc: 0.9290\n",
      "Epoch 10/100\n",
      "4000/4000 [==============================] - 1s 253us/step - loss: 0.2877 - acc: 0.9320\n",
      "Epoch 11/100\n",
      "4000/4000 [==============================] - 1s 254us/step - loss: 0.2792 - acc: 0.9283\n",
      "Epoch 12/100\n",
      "4000/4000 [==============================] - 1s 253us/step - loss: 0.2606 - acc: 0.9293\n",
      "Epoch 13/100\n",
      "4000/4000 [==============================] - 1s 267us/step - loss: 0.2305 - acc: 0.9375\n",
      "Epoch 14/100\n",
      "4000/4000 [==============================] - 1s 255us/step - loss: 0.2078 - acc: 0.9463\n",
      "Epoch 15/100\n",
      "4000/4000 [==============================] - 1s 256us/step - loss: 0.2142 - acc: 0.9355\n",
      "Epoch 16/100\n",
      "4000/4000 [==============================] - 1s 255us/step - loss: 0.2125 - acc: 0.9330\n",
      "Epoch 17/100\n",
      "4000/4000 [==============================] - 1s 254us/step - loss: 0.1766 - acc: 0.9517\n",
      "Epoch 18/100\n",
      "4000/4000 [==============================] - 1s 257us/step - loss: 0.1842 - acc: 0.9415\n",
      "Epoch 19/100\n",
      "4000/4000 [==============================] - 1s 256us/step - loss: 0.1642 - acc: 0.9532\n",
      "Epoch 20/100\n",
      "4000/4000 [==============================] - 1s 257us/step - loss: 0.1553 - acc: 0.9600\n",
      "Epoch 21/100\n",
      "4000/4000 [==============================] - 1s 258us/step - loss: 0.1478 - acc: 0.9573\n",
      "Epoch 22/100\n",
      "4000/4000 [==============================] - 1s 258us/step - loss: 0.1405 - acc: 0.9615\n",
      "Epoch 23/100\n",
      "4000/4000 [==============================] - 1s 257us/step - loss: 0.1302 - acc: 0.9690\n",
      "Epoch 24/100\n",
      "4000/4000 [==============================] - 1s 258us/step - loss: 0.1286 - acc: 0.9645\n",
      "Epoch 25/100\n",
      "4000/4000 [==============================] - 1s 302us/step - loss: 0.1217 - acc: 0.9702\n",
      "Epoch 26/100\n",
      "4000/4000 [==============================] - 1s 274us/step - loss: 0.1158 - acc: 0.9735\n",
      "Epoch 27/100\n",
      "4000/4000 [==============================] - 1s 272us/step - loss: 0.1127 - acc: 0.9728\n",
      "Epoch 28/100\n",
      "4000/4000 [==============================] - 1s 255us/step - loss: 0.1193 - acc: 0.9690\n",
      "Epoch 29/100\n",
      "4000/4000 [==============================] - 1s 265us/step - loss: 0.1077 - acc: 0.9760\n",
      "Epoch 30/100\n",
      "4000/4000 [==============================] - 1s 272us/step - loss: 0.1065 - acc: 0.9768\n",
      "Epoch 31/100\n",
      "4000/4000 [==============================] - 1s 256us/step - loss: 0.0993 - acc: 0.9762\n",
      "Epoch 32/100\n",
      "4000/4000 [==============================] - 1s 259us/step - loss: 0.0912 - acc: 0.9800\n",
      "Epoch 33/100\n",
      "4000/4000 [==============================] - 1s 254us/step - loss: 0.0940 - acc: 0.9802\n",
      "Epoch 34/100\n",
      "4000/4000 [==============================] - 1s 257us/step - loss: 0.0925 - acc: 0.9815\n",
      "Epoch 35/100\n",
      "4000/4000 [==============================] - 1s 259us/step - loss: 0.0905 - acc: 0.9822\n",
      "Epoch 36/100\n",
      "4000/4000 [==============================] - 1s 256us/step - loss: 0.0819 - acc: 0.9870\n",
      "Epoch 37/100\n",
      "4000/4000 [==============================] - 1s 257us/step - loss: 0.0751 - acc: 0.9873\n",
      "Epoch 38/100\n",
      "4000/4000 [==============================] - 1s 258us/step - loss: 0.0736 - acc: 0.9880\n",
      "Epoch 39/100\n",
      "4000/4000 [==============================] - 1s 257us/step - loss: 0.0737 - acc: 0.9855\n",
      "Epoch 40/100\n",
      "4000/4000 [==============================] - 1s 258us/step - loss: 0.0713 - acc: 0.9908\n",
      "Epoch 41/100\n",
      "4000/4000 [==============================] - 1s 268us/step - loss: 0.0637 - acc: 0.9908\n",
      "Epoch 42/100\n",
      "4000/4000 [==============================] - 1s 276us/step - loss: 0.0675 - acc: 0.9860\n",
      "Epoch 43/100\n",
      "4000/4000 [==============================] - 1s 263us/step - loss: 0.0651 - acc: 0.9892\n",
      "Epoch 44/100\n",
      "4000/4000 [==============================] - 1s 266us/step - loss: 0.0602 - acc: 0.9928\n",
      "Epoch 45/100\n",
      "4000/4000 [==============================] - 1s 262us/step - loss: 0.0625 - acc: 0.9890\n",
      "Epoch 46/100\n",
      "4000/4000 [==============================] - 1s 266us/step - loss: 0.0642 - acc: 0.9930\n",
      "Epoch 47/100\n",
      "4000/4000 [==============================] - 1s 268us/step - loss: 0.0517 - acc: 0.9945\n",
      "Epoch 48/100\n",
      "4000/4000 [==============================] - 1s 266us/step - loss: 0.0516 - acc: 0.9938\n",
      "Epoch 49/100\n",
      "4000/4000 [==============================] - 1s 266us/step - loss: 0.0531 - acc: 0.9935\n",
      "Epoch 50/100\n",
      "4000/4000 [==============================] - 1s 275us/step - loss: 0.0508 - acc: 0.9942\n",
      "Epoch 51/100\n",
      "4000/4000 [==============================] - 1s 269us/step - loss: 0.0506 - acc: 0.9930\n",
      "Epoch 52/100\n",
      "4000/4000 [==============================] - 1s 274us/step - loss: 0.0480 - acc: 0.9950\n",
      "Epoch 53/100\n",
      "4000/4000 [==============================] - 1s 261us/step - loss: 0.0548 - acc: 0.9910\n",
      "Epoch 54/100\n",
      "4000/4000 [==============================] - 1s 263us/step - loss: 0.0470 - acc: 0.9955\n",
      "Epoch 55/100\n",
      "4000/4000 [==============================] - 1s 261us/step - loss: 0.0402 - acc: 0.9968\n",
      "Epoch 56/100\n",
      "4000/4000 [==============================] - 1s 261us/step - loss: 0.0404 - acc: 0.9965\n",
      "Epoch 57/100\n",
      "4000/4000 [==============================] - 1s 259us/step - loss: 0.0471 - acc: 0.9920\n",
      "Epoch 58/100\n",
      "4000/4000 [==============================] - 1s 256us/step - loss: 0.0416 - acc: 0.9952\n",
      "Epoch 59/100\n",
      "4000/4000 [==============================] - 1s 257us/step - loss: 0.0401 - acc: 0.9963\n",
      "Epoch 60/100\n",
      "4000/4000 [==============================] - 1s 260us/step - loss: 0.0370 - acc: 0.9970\n",
      "Epoch 61/100\n",
      "4000/4000 [==============================] - 1s 261us/step - loss: 0.0433 - acc: 0.9952\n",
      "Epoch 62/100\n",
      "4000/4000 [==============================] - 1s 262us/step - loss: 0.0336 - acc: 0.9972\n",
      "Epoch 63/100\n",
      "4000/4000 [==============================] - 1s 254us/step - loss: 0.0314 - acc: 0.9978\n",
      "Epoch 64/100\n",
      "4000/4000 [==============================] - 1s 256us/step - loss: 0.0309 - acc: 0.9980\n",
      "Epoch 65/100\n",
      "4000/4000 [==============================] - 1s 260us/step - loss: 0.0298 - acc: 0.9975\n",
      "Epoch 66/100\n",
      "4000/4000 [==============================] - 1s 250us/step - loss: 0.0312 - acc: 0.9975\n",
      "Epoch 67/100\n",
      "4000/4000 [==============================] - 1s 253us/step - loss: 0.0289 - acc: 0.9982\n",
      "Epoch 68/100\n",
      "4000/4000 [==============================] - 1s 255us/step - loss: 0.0269 - acc: 0.9980\n",
      "Epoch 69/100\n",
      "4000/4000 [==============================] - 1s 253us/step - loss: 0.0262 - acc: 0.9982\n",
      "Epoch 70/100\n",
      "4000/4000 [==============================] - 1s 253us/step - loss: 0.0258 - acc: 0.9982\n",
      "Epoch 71/100\n",
      "4000/4000 [==============================] - 1s 251us/step - loss: 0.0245 - acc: 0.9982\n",
      "Epoch 72/100\n",
      "4000/4000 [==============================] - 1s 248us/step - loss: 0.0249 - acc: 0.9980\n",
      "Epoch 73/100\n",
      "4000/4000 [==============================] - 1s 256us/step - loss: 0.0255 - acc: 0.9978\n",
      "Epoch 74/100\n",
      "4000/4000 [==============================] - 1s 260us/step - loss: 0.0229 - acc: 0.9982\n",
      "Epoch 75/100\n",
      "4000/4000 [==============================] - 1s 255us/step - loss: 0.0223 - acc: 0.9982\n",
      "Epoch 76/100\n",
      "4000/4000 [==============================] - 1s 304us/step - loss: 0.0234 - acc: 0.9985\n",
      "Epoch 77/100\n",
      "4000/4000 [==============================] - 1s 276us/step - loss: 0.0227 - acc: 0.9985\n",
      "Epoch 78/100\n",
      "4000/4000 [==============================] - 1s 254us/step - loss: 0.0209 - acc: 0.9985\n",
      "Epoch 79/100\n",
      "4000/4000 [==============================] - 1s 253us/step - loss: 0.0203 - acc: 0.9982\n",
      "Epoch 80/100\n",
      "4000/4000 [==============================] - 1s 253us/step - loss: 0.0196 - acc: 0.9988\n",
      "Epoch 81/100\n",
      "4000/4000 [==============================] - 1s 261us/step - loss: 0.0201 - acc: 0.9985\n",
      "Epoch 82/100\n",
      "4000/4000 [==============================] - 1s 251us/step - loss: 0.0188 - acc: 0.9985\n",
      "Epoch 83/100\n",
      "4000/4000 [==============================] - 1s 249us/step - loss: 0.0204 - acc: 0.9990\n",
      "Epoch 84/100\n",
      "4000/4000 [==============================] - 1s 258us/step - loss: 0.0179 - acc: 0.9990\n",
      "Epoch 85/100\n",
      "4000/4000 [==============================] - 1s 252us/step - loss: 0.0173 - acc: 0.9988\n",
      "Epoch 86/100\n",
      "4000/4000 [==============================] - 1s 254us/step - loss: 0.0176 - acc: 0.9988\n",
      "Epoch 87/100\n",
      "4000/4000 [==============================] - 1s 253us/step - loss: 0.0166 - acc: 0.9988\n",
      "Epoch 88/100\n",
      "4000/4000 [==============================] - 1s 253us/step - loss: 0.0156 - acc: 0.9990\n",
      "Epoch 89/100\n",
      "4000/4000 [==============================] - 1s 249us/step - loss: 0.0168 - acc: 0.9993\n",
      "Epoch 90/100\n",
      "4000/4000 [==============================] - 1s 248us/step - loss: 0.0162 - acc: 0.9993\n",
      "Epoch 91/100\n",
      "4000/4000 [==============================] - 1s 251us/step - loss: 0.0155 - acc: 0.9993\n",
      "Epoch 92/100\n",
      "4000/4000 [==============================] - 1s 252us/step - loss: 0.0147 - acc: 0.9990\n",
      "Epoch 93/100\n",
      "4000/4000 [==============================] - 1s 248us/step - loss: 0.0142 - acc: 0.9993\n",
      "Epoch 94/100\n",
      "4000/4000 [==============================] - 1s 250us/step - loss: 0.0136 - acc: 0.9993\n",
      "Epoch 95/100\n",
      "4000/4000 [==============================] - 1s 249us/step - loss: 0.0139 - acc: 0.9988\n",
      "Epoch 96/100\n",
      "4000/4000 [==============================] - 1s 250us/step - loss: 0.0167 - acc: 0.9990\n",
      "Epoch 97/100\n",
      "4000/4000 [==============================] - 1s 251us/step - loss: 0.0177 - acc: 0.9985\n",
      "Epoch 98/100\n",
      "4000/4000 [==============================] - 1s 256us/step - loss: 0.0149 - acc: 0.9988\n",
      "Epoch 99/100\n",
      "4000/4000 [==============================] - 1s 252us/step - loss: 0.0152 - acc: 0.9985\n",
      "Epoch 100/100\n",
      "4000/4000 [==============================] - 1s 253us/step - loss: 0.0148 - acc: 0.9988\n"
     ]
    },
    {
     "data": {
      "text/plain": [
       "<keras.callbacks.History at 0x7ff8549c0f60>"
      ]
     },
     "execution_count": 13,
     "metadata": {},
     "output_type": "execute_result"
    }
   ],
   "source": [
    "network.fit(train_images, train_labels, epochs=100, batch_size=128)"
   ]
  },
  {
   "cell_type": "code",
   "execution_count": 14,
   "metadata": {},
   "outputs": [
    {
     "name": "stdout",
     "output_type": "stream",
     "text": [
      "1000/1000 [==============================] - 0s 97us/step\n"
     ]
    }
   ],
   "source": [
    "test_loss, test_acc = network.evaluate(test_images, test_labels)"
   ]
  },
  {
   "cell_type": "code",
   "execution_count": 15,
   "metadata": {},
   "outputs": [
    {
     "name": "stdout",
     "output_type": "stream",
     "text": [
      "test_acc: 0.993\n"
     ]
    }
   ],
   "source": [
    "print('test_acc:', test_acc)"
   ]
  },
  {
   "cell_type": "code",
   "execution_count": 16,
   "metadata": {},
   "outputs": [
    {
     "data": {
      "image/png": "[encoded data removed]",
      "text/plain": [
       "<Figure size 432x288 with 2 Axes>"
      ]
     },
     "metadata": {
      "needs_background": "light"
     },
     "output_type": "display_data"
    },
    {
     "data": {
      "image/png": "[encoded data removed]",
      "text/plain": [
       "<Figure size 432x288 with 2 Axes>"
      ]
     },
     "metadata": {
      "needs_background": "light"
     },
     "output_type": "display_data"
    },
    {
     "data": {
      "image/png": "[encoded data removed]",
      "text/plain": [
       "<Figure size 432x288 with 2 Axes>"
      ]
     },
     "metadata": {
      "needs_background": "light"
     },
     "output_type": "display_data"
    },
    {
     "data": {
      "image/png": "[encoded data removed]",
      "text/plain": [
       "<Figure size 432x288 with 2 Axes>"
      ]
     },
     "metadata": {
      "needs_background": "light"
     },
     "output_type": "display_data"
    },
    {
     "data": {
      "image/png": "[encoded data removed]",
      "text/plain": [
       "<Figure size 432x288 with 2 Axes>"
      ]
     },
     "metadata": {
      "needs_background": "light"
     },
     "output_type": "display_data"
    },
    {
     "data": {
      "image/png": "[encoded data removed]",
      "text/plain": [
       "<Figure size 432x288 with 2 Axes>"
      ]
     },
     "metadata": {
      "needs_background": "light"
     },
     "output_type": "display_data"
    },
    {
     "data": {
      "image/png": "[encoded data removed]",
      "text/plain": [
       "<Figure size 432x288 with 2 Axes>"
      ]
     },
     "metadata": {
      "needs_background": "light"
     },
     "output_type": "display_data"
    }
   ],
   "source": [
    "for label, image in list(zip(test_labels, test_images)):\n",
    "    prediction = network.predict(np.array([image,]))\n",
    "    if not prediction.argmax() == label.argmax():\n",
    "        image = image.reshape(48, 48, 3)\n",
    "        fig1, ax1 = plt.subplots()\n",
    "        ax1.axis('off')\n",
    "        plt.title('predicted:' + str(prediction.argmax()))\n",
    "        fig1.add_subplot(111).imshow(image)    "
   ]
  },
  {
   "cell_type": "code",
   "execution_count": null,
   "metadata": {},
   "outputs": [],
   "source": []
  }
 ],
 "metadata": {
  "kernelspec": {
   "display_name": "Python 3",
   "language": "python",
   "name": "python3"
  },
  "language_info": {
   "codemirror_mode": {
    "name": "ipython",
    "version": 3
   },
   "file_extension": ".py",
   "mimetype": "text/x-python",
   "name": "python",
   "nbconvert_exporter": "python",
   "pygments_lexer": "ipython3",
   "version": "3.6.7"
  }
 },
 "nbformat": 4,
 "nbformat_minor": 2
}
