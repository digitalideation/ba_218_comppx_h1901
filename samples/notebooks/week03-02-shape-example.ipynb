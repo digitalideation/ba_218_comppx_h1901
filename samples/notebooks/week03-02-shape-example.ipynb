{
 "cells": [
  {
   "cell_type": "markdown",
   "metadata": {},
   "source": [
    "# Reference\n",
    "\n",
    "To run this code you will need to install [Matplotlib](https://matplotlib.org/users/installing.html) and [Numpy](https://www.scipy.org/install.html)\n",
    "\n",
    "If you like to run the example locally follow the instructions provided on [Keras website](https://keras.io/#installation)\n",
    "\n",
    "It's __strongly__ suggested to use a Python environments manager such as [Conda](https://conda.io/docs/) or some kind of [VirutalEnv](#)\n",
    "\n",
    "---"
   ]
  },
  {
   "cell_type": "code",
   "execution_count": 9,
   "metadata": {},
   "outputs": [
    {
     "data": {
      "text/plain": [
       "'2.3.0'"
      ]
     },
     "execution_count": 9,
     "metadata": {},
     "output_type": "execute_result"
    }
   ],
   "source": [
    "import keras\n",
    "keras.__version__"
   ]
  },
  {
   "cell_type": "markdown",
   "metadata": {},
   "source": [
    "# A second look at a neural network\n",
    "\n",
    "Let's try to adapt the shape classification model built with the `toyNN` in js before.\n",
    "\n",
    "We first need to create a dataset _manually_ to do we will define a `draw_shape` function that will help generating some random shape"
   ]
  },
  {
   "cell_type": "code",
   "execution_count": 10,
   "metadata": {},
   "outputs": [],
   "source": [
    "import math\n",
    "import random\n",
    "import matplotlib.pyplot as plt\n",
    "import numpy as np\n",
    "\n",
    "# 0 = rectangle, 1 = triangle, 2 = ellipse\n",
    "# return shape\n",
    "def draw_shape(max_size, type):\n",
    "    \n",
    "    # Random size and fixed coordinate\n",
    "#     s = math.floor(random.randrange(1, max_size-4))\n",
    "#     x = math.floor(max_size/2)\n",
    "#     y = math.floor(max_size/2)\n",
    "\n",
    "    # Not so random size and random coordinate\n",
    "    s = int(random.randrange(max_size/2, max_size))\n",
    "    x = int(random.randrange(int(s/2), max_size-int(s/2)))\n",
    "    y = int(random.randrange(int(s/2), max_size-int(s/2)))\n",
    "\n",
    "    type = type%3\n",
    "    \n",
    "    if type == 0:\n",
    "        art = plt.Rectangle((x-s/2, y-s/2), s, s, color='r')\n",
    "\n",
    "    if type == 1:\n",
    "        verts = [\n",
    "            (x-s/2, y-s/2),\n",
    "            (x, y+s/2),\n",
    "            (x+s/2, y-s/2)\n",
    "        ]\n",
    "        art = plt.Polygon(verts, color='r')\n",
    "\n",
    "    if type == 2:\n",
    "        art = plt.Circle((x, y), s/2, color='r')\n",
    "    \n",
    "    return art"
   ]
  },
  {
   "cell_type": "markdown",
   "metadata": {},
   "source": [
    "We also define a helper function that convert a matplotlib figure to a np array"
   ]
  },
  {
   "cell_type": "code",
   "execution_count": 11,
   "metadata": {},
   "outputs": [],
   "source": [
    "# https://stackoverflow.com/a/7821917\n",
    "def fig2rgb_array(fig):\n",
    "    fig.canvas.draw()\n",
    "    buf = fig.canvas.tostring_rgb()\n",
    "    ncols, nrows = fig.canvas.get_width_height()\n",
    "    return np.frombuffer(buf, dtype=np.uint8).reshape(nrows, ncols, 3)"
   ]
  },
  {
   "cell_type": "markdown",
   "metadata": {},
   "source": [
    "Let's test the function see if it works as expected"
   ]
  },
  {
   "cell_type": "code",
   "execution_count": 13,
   "metadata": {},
   "outputs": [
    {
     "name": "stdout",
     "output_type": "stream",
     "text": [
      "(48, 48, 3)\n"
     ]
    },
    {
     "data": {
      "image/png": "[encoded data removed]",
      "text/plain": [
       "<Figure size 48x48 with 1 Axes>"
      ]
     },
     "metadata": {
      "needs_background": "light"
     },
     "output_type": "display_data"
    }
   ],
   "source": [
    "# Image and dataset size we are going to use\n",
    "image_size = 48\n",
    "dataset_size = 5000\n",
    "\n",
    "# Create plot's figure and axes\n",
    "# https://stackoverflow.com/a/638443\n",
    "fig = plt.figure(figsize=(1,1), dpi=image_size)\n",
    "ax = fig.add_subplot(111)\n",
    "\n",
    "# Setting for the axes\n",
    "ax.set_xlim(0,image_size)\n",
    "ax.set_ylim(0,image_size)\n",
    "# ax.axis('off')\n",
    "\n",
    "# Draw a random shape\n",
    "art = draw_shape(image_size,random.randint(0,2))\n",
    "# Add the shape to the plot\n",
    "# https://stackoverflow.com/a/29184075\n",
    "plt.gcf().gca().add_artist(art)\n",
    "# gcf() means Get Current Figure\n",
    "# gca() means Get Current Axis\n",
    "\n",
    "# convert the figure to an array\n",
    "data = fig2rgb_array(fig)\n",
    "print(data.shape)"
   ]
  },
  {
   "cell_type": "markdown",
   "metadata": {},
   "source": [
    "Let's create a loop that will generate a small dataset for us"
   ]
  },
  {
   "cell_type": "code",
   "execution_count": 14,
   "metadata": {},
   "outputs": [
    {
     "name": "stdout",
     "output_type": "stream",
     "text": [
      "(5000, 48, 48, 3)\n",
      "(5000,)\n"
     ]
    },
    {
     "data": {
      "image/png": "[encoded data removed]",
      "text/plain": [
       "<Figure size 48x48 with 1 Axes>"
      ]
     },
     "metadata": {
      "needs_background": "light"
     },
     "output_type": "display_data"
    }
   ],
   "source": [
    "def generate_dataset(image_size, dataset_size):\n",
    "\n",
    "    # Those variable will contain the images and associated labels\n",
    "    images = np.zeros((dataset_size, image_size, image_size, 3))\n",
    "    labels = np.zeros((dataset_size))\n",
    "    \n",
    "    # The plot figure we will use to generate the shapes\n",
    "    fig = plt.figure(figsize=(1,1), dpi=image_size)\n",
    "\n",
    "    for i in range(dataset_size):\n",
    "        \n",
    "        # Clear the figure\n",
    "        fig.clf()\n",
    "        \n",
    "        # Recreate the axes\n",
    "        ax = fig.add_subplot(111)\n",
    "        ax.set_xlim(0, image_size)\n",
    "        ax.set_ylim(0, image_size)\n",
    "        ax.axis('off')\n",
    "        \n",
    "        # Define label\n",
    "        label = i%3\n",
    "        art = draw_shape(image_size, label)\n",
    "        plt.gcf().gca().add_artist(art)\n",
    "        \n",
    "        # Add values to the arrays\n",
    "        images[i] = fig2rgb_array(fig)\n",
    "        labels[i] = label\n",
    "        \n",
    "    return images, labels\n",
    "\n",
    "# Generate our dataset\n",
    "images, labels = generate_dataset(image_size, dataset_size)\n",
    "print(images.shape)\n",
    "print(labels.shape)"
   ]
  },
  {
   "cell_type": "markdown",
   "metadata": {},
   "source": [
    "Eventually we can save our dataset for later, since it takes quite some time to generate it 😉"
   ]
  },
  {
   "cell_type": "code",
   "execution_count": 24,
   "metadata": {},
   "outputs": [],
   "source": [
    "np.save('datasets/shape-example-shapes1.npy', images)\n",
    "np.save('datasets/shape-example-labels1.npy', labels)"
   ]
  },
  {
   "cell_type": "markdown",
   "metadata": {},
   "source": [
    "If we need to load it we can then use the following code"
   ]
  },
  {
   "cell_type": "code",
   "execution_count": 8,
   "metadata": {},
   "outputs": [],
   "source": [
    "images = np.load('datasets/shape-example-shapes1.npy')\n",
    "labels = np.load('datasets/shape-example-labels1.npy')"
   ]
  },
  {
   "cell_type": "markdown",
   "metadata": {},
   "source": [
    "We split our dataset manually in training and testing set"
   ]
  },
  {
   "cell_type": "code",
   "execution_count": 15,
   "metadata": {},
   "outputs": [
    {
     "name": "stdout",
     "output_type": "stream",
     "text": [
      "(4000, 48, 48, 3)\n",
      "(4000,)\n"
     ]
    },
    {
     "data": {
      "text/plain": [
       "<matplotlib.image.AxesImage at 0x1377f2090>"
      ]
     },
     "execution_count": 15,
     "metadata": {},
     "output_type": "execute_result"
    },
    {
     "data": {
      "image/png": "[encoded data removed]",
      "text/plain": [
       "<Figure size 1152x288 with 1 Axes>"
      ]
     },
     "metadata": {
      "needs_background": "light"
     },
     "output_type": "display_data"
    }
   ],
   "source": [
    "# Define the size of the training set, here we use 80% of the total samples for training\n",
    "train_size = int(dataset_size*.8)\n",
    "\n",
    "# TODO: We should shuffle the dataset\n",
    "\n",
    "# Split the dataset into train and test dataset\n",
    "train_images, test_images = images[:train_size], images[train_size:]\n",
    "train_labels, test_labels = labels[:train_size], labels[train_size:]\n",
    "\n",
    "# Verify the data\n",
    "print(train_images.shape)\n",
    "print(train_labels.shape)\n",
    "\n",
    "# sample_images = []\n",
    "# for label, image in list(zip(train_labels, train_images))[:10]:\n",
    "#     fig1, ax1 = plt.subplots()\n",
    "#     ax1.axis('off')\n",
    "#     plt.title(label)\n",
    "#     fig1.add_subplot(111).imshow(image/255)\n",
    "\n",
    "full_image = np.concatenate(train_images[:12]/255, axis=1)\n",
    "plt.figure(figsize=(16,4))\n",
    "plt.imshow(full_image)"
   ]
  },
  {
   "cell_type": "markdown",
   "metadata": {},
   "source": [
    "Now we can create our model"
   ]
  },
  {
   "cell_type": "code",
   "execution_count": 17,
   "metadata": {},
   "outputs": [],
   "source": [
    "from keras import models\n",
    "from keras import layers\n",
    "\n",
    "network = models.Sequential()\n",
    "network.add(layers.Dense(512, activation='sigmoid', input_shape=(3 * image_size * image_size,)))\n",
    "network.add(layers.Dense(3, activation='softmax'))"
   ]
  },
  {
   "cell_type": "markdown",
   "metadata": {},
   "source": [
    "And compile it"
   ]
  },
  {
   "cell_type": "code",
   "execution_count": 18,
   "metadata": {},
   "outputs": [],
   "source": [
    "network.compile(optimizer='adam',\n",
    "                loss='categorical_crossentropy',\n",
    "                metrics=['accuracy'])"
   ]
  },
  {
   "cell_type": "markdown",
   "metadata": {},
   "source": [
    "Before training, we will preprocess our data by reshaping it into the shape that the network expects, and scaling it so that all values are in the `[0, 1]` interval. Then we also need to categorically encode the labels."
   ]
  },
  {
   "cell_type": "code",
   "execution_count": 19,
   "metadata": {},
   "outputs": [],
   "source": [
    "# Reshape data\n",
    "train_images = train_images.reshape((len(train_images), 3 * image_size * image_size))\n",
    "train_images = train_images.astype('float32') / 255\n",
    "\n",
    "test_images = test_images.reshape((len(test_images), 3 * image_size * image_size))\n",
    "test_images = test_images.astype('float32') / 255\n",
    "\n",
    "# Encode to categorical\n",
    "from keras.utils import to_categorical\n",
    "\n",
    "train_labels = to_categorical(train_labels)\n",
    "test_labels = to_categorical(test_labels)"
   ]
  },
  {
   "cell_type": "markdown",
   "metadata": {},
   "source": [
    "Then we can start the training"
   ]
  },
  {
   "cell_type": "code",
   "execution_count": 20,
   "metadata": {},
   "outputs": [
    {
     "name": "stdout",
     "output_type": "stream",
     "text": [
      "Epoch 1/100\n",
      "4000/4000 [==============================] - 1s 350us/step - loss: 3.1490 - accuracy: 0.5930\n",
      "Epoch 2/100\n",
      "4000/4000 [==============================] - 1s 324us/step - loss: 0.8636 - accuracy: 0.5508\n",
      "Epoch 3/100\n",
      "4000/4000 [==============================] - 1s 307us/step - loss: 0.7295 - accuracy: 0.7253\n",
      "Epoch 4/100\n",
      "4000/4000 [==============================] - 1s 314us/step - loss: 0.6445 - accuracy: 0.8170\n",
      "Epoch 5/100\n",
      "4000/4000 [==============================] - 1s 334us/step - loss: 0.5704 - accuracy: 0.8910\n",
      "Epoch 6/100\n",
      "4000/4000 [==============================] - 1s 367us/step - loss: 0.5162 - accuracy: 0.9110\n",
      "Epoch 7/100\n",
      "4000/4000 [==============================] - 1s 345us/step - loss: 0.4659 - accuracy: 0.9170\n",
      "Epoch 8/100\n",
      "4000/4000 [==============================] - 1s 367us/step - loss: 0.4205 - accuracy: 0.9283\n",
      "Epoch 9/100\n",
      "4000/4000 [==============================] - 2s 380us/step - loss: 0.3845 - accuracy: 0.9330\n",
      "Epoch 10/100\n",
      "4000/4000 [==============================] - 2s 402us/step - loss: 0.3552 - accuracy: 0.9360\n",
      "Epoch 11/100\n",
      "4000/4000 [==============================] - 2s 410us/step - loss: 0.3248 - accuracy: 0.9408\n",
      "Epoch 12/100\n",
      "4000/4000 [==============================] - 2s 404us/step - loss: 0.2993 - accuracy: 0.9452\n",
      "Epoch 13/100\n",
      "4000/4000 [==============================] - 2s 448us/step - loss: 0.2723 - accuracy: 0.9523\n",
      "Epoch 14/100\n",
      "4000/4000 [==============================] - 2s 452us/step - loss: 0.2596 - accuracy: 0.9503\n",
      "Epoch 15/100\n",
      "4000/4000 [==============================] - 2s 427us/step - loss: 0.2405 - accuracy: 0.9555\n",
      "Epoch 16/100\n",
      "4000/4000 [==============================] - 2s 419us/step - loss: 0.2204 - accuracy: 0.9588\n",
      "Epoch 17/100\n",
      "4000/4000 [==============================] - 2s 389us/step - loss: 0.2084 - accuracy: 0.9605\n",
      "Epoch 18/100\n",
      "4000/4000 [==============================] - 2s 423us/step - loss: 0.2091 - accuracy: 0.9557\n",
      "Epoch 19/100\n",
      "4000/4000 [==============================] - 2s 493us/step - loss: 0.1850 - accuracy: 0.9645\n",
      "Epoch 20/100\n",
      "4000/4000 [==============================] - 2s 530us/step - loss: 0.1880 - accuracy: 0.9590\n",
      "Epoch 21/100\n",
      "4000/4000 [==============================] - 1s 363us/step - loss: 0.1736 - accuracy: 0.9672\n",
      "Epoch 22/100\n",
      "4000/4000 [==============================] - 2s 379us/step - loss: 0.1561 - accuracy: 0.9695\n",
      "Epoch 23/100\n",
      "4000/4000 [==============================] - 1s 365us/step - loss: 0.1506 - accuracy: 0.9685\n",
      "Epoch 24/100\n",
      "4000/4000 [==============================] - 1s 375us/step - loss: 0.1404 - accuracy: 0.9722\n",
      "Epoch 25/100\n",
      "4000/4000 [==============================] - 2s 377us/step - loss: 0.1397 - accuracy: 0.9732\n",
      "Epoch 26/100\n",
      "4000/4000 [==============================] - 2s 378us/step - loss: 0.1269 - accuracy: 0.9732\n",
      "Epoch 27/100\n",
      "4000/4000 [==============================] - 1s 369us/step - loss: 0.1219 - accuracy: 0.9745\n",
      "Epoch 28/100\n",
      "4000/4000 [==============================] - 1s 368us/step - loss: 0.1315 - accuracy: 0.9685\n",
      "Epoch 29/100\n",
      "4000/4000 [==============================] - 2s 377us/step - loss: 0.1242 - accuracy: 0.9747\n",
      "Epoch 30/100\n",
      "4000/4000 [==============================] - 2s 375us/step - loss: 0.1182 - accuracy: 0.9712\n",
      "Epoch 31/100\n",
      "4000/4000 [==============================] - 1s 372us/step - loss: 0.1164 - accuracy: 0.9718\n",
      "Epoch 32/100\n",
      "4000/4000 [==============================] - 1s 359us/step - loss: 0.1258 - accuracy: 0.9668\n",
      "Epoch 33/100\n",
      "4000/4000 [==============================] - 1s 374us/step - loss: 0.1147 - accuracy: 0.9720\n",
      "Epoch 34/100\n",
      "4000/4000 [==============================] - 1s 373us/step - loss: 0.0970 - accuracy: 0.9778\n",
      "Epoch 35/100\n",
      "4000/4000 [==============================] - 2s 376us/step - loss: 0.0930 - accuracy: 0.9770\n",
      "Epoch 36/100\n",
      "4000/4000 [==============================] - 2s 378us/step - loss: 0.1108 - accuracy: 0.9735\n",
      "Epoch 37/100\n",
      "4000/4000 [==============================] - 2s 509us/step - loss: 0.0901 - accuracy: 0.9780\n",
      "Epoch 38/100\n",
      "4000/4000 [==============================] - 2s 516us/step - loss: 0.0877 - accuracy: 0.9793\n",
      "Epoch 39/100\n",
      "4000/4000 [==============================] - 2s 418us/step - loss: 0.0847 - accuracy: 0.9797\n",
      "Epoch 40/100\n",
      "4000/4000 [==============================] - 2s 486us/step - loss: 0.0843 - accuracy: 0.9797\n",
      "Epoch 41/100\n",
      "4000/4000 [==============================] - 2s 445us/step - loss: 0.0831 - accuracy: 0.9800\n",
      "Epoch 42/100\n",
      "4000/4000 [==============================] - 2s 459us/step - loss: 0.0801 - accuracy: 0.9803\n",
      "Epoch 43/100\n",
      "4000/4000 [==============================] - 2s 448us/step - loss: 0.0759 - accuracy: 0.9803\n",
      "Epoch 44/100\n",
      "4000/4000 [==============================] - 2s 484us/step - loss: 0.0719 - accuracy: 0.9825\n",
      "Epoch 45/100\n",
      "4000/4000 [==============================] - 2s 478us/step - loss: 0.0738 - accuracy: 0.9815\n",
      "Epoch 46/100\n",
      "4000/4000 [==============================] - 2s 533us/step - loss: 0.0698 - accuracy: 0.9825\n",
      "Epoch 47/100\n",
      "4000/4000 [==============================] - 2s 527us/step - loss: 0.0686 - accuracy: 0.9822\n",
      "Epoch 48/100\n",
      "4000/4000 [==============================] - 2s 492us/step - loss: 0.0727 - accuracy: 0.9810\n",
      "Epoch 49/100\n",
      "4000/4000 [==============================] - 2s 542us/step - loss: 0.0657 - accuracy: 0.9845\n",
      "Epoch 50/100\n",
      "4000/4000 [==============================] - 2s 514us/step - loss: 0.0628 - accuracy: 0.9830\n",
      "Epoch 51/100\n",
      "4000/4000 [==============================] - 2s 499us/step - loss: 0.0602 - accuracy: 0.9843\n",
      "Epoch 52/100\n",
      "4000/4000 [==============================] - 2s 507us/step - loss: 0.0633 - accuracy: 0.9850\n",
      "Epoch 53/100\n",
      "4000/4000 [==============================] - 2s 502us/step - loss: 0.0592 - accuracy: 0.9845\n",
      "Epoch 54/100\n",
      "4000/4000 [==============================] - 2s 478us/step - loss: 0.0584 - accuracy: 0.9843\n",
      "Epoch 55/100\n",
      "4000/4000 [==============================] - 2s 467us/step - loss: 0.0581 - accuracy: 0.9840\n",
      "Epoch 56/100\n",
      "4000/4000 [==============================] - 2s 473us/step - loss: 0.0576 - accuracy: 0.9860\n",
      "Epoch 57/100\n",
      "4000/4000 [==============================] - 2s 422us/step - loss: 0.0567 - accuracy: 0.9852\n",
      "Epoch 58/100\n",
      "4000/4000 [==============================] - 2s 451us/step - loss: 0.0566 - accuracy: 0.9860\n",
      "Epoch 59/100\n",
      "4000/4000 [==============================] - 2s 485us/step - loss: 0.0509 - accuracy: 0.9877\n",
      "Epoch 60/100\n",
      "4000/4000 [==============================] - 2s 488us/step - loss: 0.0491 - accuracy: 0.9890\n",
      "Epoch 61/100\n",
      "4000/4000 [==============================] - 2s 548us/step - loss: 0.0480 - accuracy: 0.9883\n",
      "Epoch 62/100\n",
      "4000/4000 [==============================] - 2s 557us/step - loss: 0.0489 - accuracy: 0.9875\n",
      "Epoch 63/100\n",
      "4000/4000 [==============================] - 2s 554us/step - loss: 0.0459 - accuracy: 0.9890\n",
      "Epoch 64/100\n",
      "4000/4000 [==============================] - 2s 440us/step - loss: 0.0438 - accuracy: 0.9895\n",
      "Epoch 65/100\n",
      "4000/4000 [==============================] - 2s 465us/step - loss: 0.0462 - accuracy: 0.9890\n",
      "Epoch 66/100\n",
      "4000/4000 [==============================] - 2s 470us/step - loss: 0.0465 - accuracy: 0.9893\n",
      "Epoch 67/100\n",
      "4000/4000 [==============================] - 2s 493us/step - loss: 0.0432 - accuracy: 0.9893\n",
      "Epoch 68/100\n",
      "4000/4000 [==============================] - 2s 529us/step - loss: 0.0402 - accuracy: 0.9895\n",
      "Epoch 69/100\n",
      "4000/4000 [==============================] - 2s 504us/step - loss: 0.0415 - accuracy: 0.9900\n",
      "Epoch 70/100\n",
      "4000/4000 [==============================] - 2s 568us/step - loss: 0.0436 - accuracy: 0.9902\n",
      "Epoch 71/100\n",
      "4000/4000 [==============================] - 2s 494us/step - loss: 0.0423 - accuracy: 0.9910\n",
      "Epoch 72/100\n",
      "4000/4000 [==============================] - 2s 523us/step - loss: 0.0402 - accuracy: 0.9898\n",
      "Epoch 73/100\n",
      "4000/4000 [==============================] - 2s 509us/step - loss: 0.0369 - accuracy: 0.9920\n",
      "Epoch 74/100\n",
      "4000/4000 [==============================] - 2s 519us/step - loss: 0.0359 - accuracy: 0.9925\n",
      "Epoch 75/100\n",
      "4000/4000 [==============================] - 2s 582us/step - loss: 0.0358 - accuracy: 0.9933\n",
      "Epoch 76/100\n",
      "4000/4000 [==============================] - 2s 556us/step - loss: 0.0349 - accuracy: 0.9915\n",
      "Epoch 77/100\n",
      "4000/4000 [==============================] - 2s 537us/step - loss: 0.0373 - accuracy: 0.9912\n",
      "Epoch 78/100\n"
     ]
    },
    {
     "name": "stdout",
     "output_type": "stream",
     "text": [
      "4000/4000 [==============================] - 2s 525us/step - loss: 0.0505 - accuracy: 0.9890\n",
      "Epoch 79/100\n",
      "4000/4000 [==============================] - 2s 505us/step - loss: 0.0540 - accuracy: 0.9898\n",
      "Epoch 80/100\n",
      "4000/4000 [==============================] - 2s 479us/step - loss: 0.0468 - accuracy: 0.9883\n",
      "Epoch 81/100\n",
      "4000/4000 [==============================] - 2s 489us/step - loss: 0.0414 - accuracy: 0.9902\n",
      "Epoch 82/100\n",
      "4000/4000 [==============================] - 2s 524us/step - loss: 0.0446 - accuracy: 0.9908\n",
      "Epoch 83/100\n",
      "4000/4000 [==============================] - 2s 596us/step - loss: 0.0440 - accuracy: 0.9910\n",
      "Epoch 84/100\n",
      "4000/4000 [==============================] - 2s 624us/step - loss: 0.0450 - accuracy: 0.9908\n",
      "Epoch 85/100\n",
      "4000/4000 [==============================] - 2s 574us/step - loss: 0.0945 - accuracy: 0.9772\n",
      "Epoch 86/100\n",
      "4000/4000 [==============================] - 2s 441us/step - loss: 0.0610 - accuracy: 0.9875\n",
      "Epoch 87/100\n",
      "4000/4000 [==============================] - 2s 516us/step - loss: 0.0527 - accuracy: 0.9850\n",
      "Epoch 88/100\n",
      "4000/4000 [==============================] - 2s 464us/step - loss: 0.0493 - accuracy: 0.9862\n",
      "Epoch 89/100\n",
      "4000/4000 [==============================] - 2s 456us/step - loss: 0.0482 - accuracy: 0.9870\n",
      "Epoch 90/100\n",
      "4000/4000 [==============================] - 2s 481us/step - loss: 0.0438 - accuracy: 0.9885\n",
      "Epoch 91/100\n",
      "4000/4000 [==============================] - 2s 517us/step - loss: 0.0427 - accuracy: 0.9885\n",
      "Epoch 92/100\n",
      "4000/4000 [==============================] - 2s 472us/step - loss: 0.0407 - accuracy: 0.9898\n",
      "Epoch 93/100\n",
      "4000/4000 [==============================] - 2s 539us/step - loss: 0.0409 - accuracy: 0.9890\n",
      "Epoch 94/100\n",
      "4000/4000 [==============================] - 2s 504us/step - loss: 0.0381 - accuracy: 0.9910\n",
      "Epoch 95/100\n",
      "4000/4000 [==============================] - 2s 481us/step - loss: 0.0362 - accuracy: 0.9918\n",
      "Epoch 96/100\n",
      "4000/4000 [==============================] - 2s 474us/step - loss: 0.0371 - accuracy: 0.9910\n",
      "Epoch 97/100\n",
      "4000/4000 [==============================] - 2s 518us/step - loss: 0.0326 - accuracy: 0.9933\n",
      "Epoch 98/100\n",
      "4000/4000 [==============================] - 2s 544us/step - loss: 0.0312 - accuracy: 0.9933\n",
      "Epoch 99/100\n",
      "4000/4000 [==============================] - 2s 525us/step - loss: 0.0308 - accuracy: 0.9945\n",
      "Epoch 100/100\n",
      "4000/4000 [==============================] - 2s 491us/step - loss: 0.0308 - accuracy: 0.9942\n"
     ]
    },
    {
     "data": {
      "text/plain": [
       "<keras.callbacks.callbacks.History at 0x1483b8550>"
      ]
     },
     "execution_count": 20,
     "metadata": {},
     "output_type": "execute_result"
    }
   ],
   "source": [
    "network.fit(train_images, train_labels, epochs=100, batch_size=128)"
   ]
  },
  {
   "cell_type": "code",
   "execution_count": 21,
   "metadata": {},
   "outputs": [
    {
     "name": "stdout",
     "output_type": "stream",
     "text": [
      "1000/1000 [==============================] - 0s 173us/step\n"
     ]
    }
   ],
   "source": [
    "test_loss, test_acc = network.evaluate(test_images, test_labels)"
   ]
  },
  {
   "cell_type": "code",
   "execution_count": 22,
   "metadata": {},
   "outputs": [
    {
     "name": "stdout",
     "output_type": "stream",
     "text": [
      "test_acc: 0.9850000143051147\n"
     ]
    }
   ],
   "source": [
    "print('test_acc:', test_acc)"
   ]
  },
  {
   "cell_type": "code",
   "execution_count": 23,
   "metadata": {},
   "outputs": [
    {
     "data": {
      "image/png": "[encoded data removed]",
      "text/plain": [
       "<Figure size 432x288 with 2 Axes>"
      ]
     },
     "metadata": {
      "needs_background": "light"
     },
     "output_type": "display_data"
    },
    {
     "data": {
      "image/png": "[encoded data removed]",
      "text/plain": [
       "<Figure size 432x288 with 2 Axes>"
      ]
     },
     "metadata": {
      "needs_background": "light"
     },
     "output_type": "display_data"
    },
    {
     "data": {
      "image/png": "[encoded data removed]",
      "text/plain": [
       "<Figure size 432x288 with 2 Axes>"
      ]
     },
     "metadata": {
      "needs_background": "light"
     },
     "output_type": "display_data"
    },
    {
     "data": {
      "image/png": "[encoded data removed]",
      "text/plain": [
       "<Figure size 432x288 with 2 Axes>"
      ]
     },
     "metadata": {
      "needs_background": "light"
     },
     "output_type": "display_data"
    },
    {
     "data": {
      "image/png": "[encoded data removed]",
      "text/plain": [
       "<Figure size 432x288 with 2 Axes>"
      ]
     },
     "metadata": {
      "needs_background": "light"
     },
     "output_type": "display_data"
    },
    {
     "data": {
      "image/png": "[encoded data removed]",
      "text/plain": [
       "<Figure size 432x288 with 2 Axes>"
      ]
     },
     "metadata": {
      "needs_background": "light"
     },
     "output_type": "display_data"
    },
    {
     "data": {
      "image/png": "[encoded data removed]",
      "text/plain": [
       "<Figure size 432x288 with 2 Axes>"
      ]
     },
     "metadata": {
      "needs_background": "light"
     },
     "output_type": "display_data"
    },
    {
     "data": {
      "image/png": "[encoded data removed]",
      "text/plain": [
       "<Figure size 432x288 with 2 Axes>"
      ]
     },
     "metadata": {
      "needs_background": "light"
     },
     "output_type": "display_data"
    },
    {
     "data": {
      "image/png": "[encoded data removed]",
      "text/plain": [
       "<Figure size 432x288 with 2 Axes>"
      ]
     },
     "metadata": {
      "needs_background": "light"
     },
     "output_type": "display_data"
    },
    {
     "data": {
      "image/png": "[encoded data removed]",
      "text/plain": [
       "<Figure size 432x288 with 2 Axes>"
      ]
     },
     "metadata": {
      "needs_background": "light"
     },
     "output_type": "display_data"
    },
    {
     "data": {
      "image/png": "[encoded data removed]",
      "text/plain": [
       "<Figure size 432x288 with 2 Axes>"
      ]
     },
     "metadata": {
      "needs_background": "light"
     },
     "output_type": "display_data"
    },
    {
     "data": {
      "image/png": "[encoded data removed]",
      "text/plain": [
       "<Figure size 432x288 with 2 Axes>"
      ]
     },
     "metadata": {
      "needs_background": "light"
     },
     "output_type": "display_data"
    },
    {
     "data": {
      "image/png": "[encoded data removed]",
      "text/plain": [
       "<Figure size 432x288 with 2 Axes>"
      ]
     },
     "metadata": {
      "needs_background": "light"
     },
     "output_type": "display_data"
    },
    {
     "data": {
      "image/png": "[encoded data removed]",
      "text/plain": [
       "<Figure size 432x288 with 2 Axes>"
      ]
     },
     "metadata": {
      "needs_background": "light"
     },
     "output_type": "display_data"
    },
    {
     "data": {
      "image/png": "[encoded data removed]",
      "text/plain": [
       "<Figure size 432x288 with 2 Axes>"
      ]
     },
     "metadata": {
      "needs_background": "light"
     },
     "output_type": "display_data"
    }
   ],
   "source": [
    "for label, image in list(zip(test_labels, test_images)):\n",
    "    prediction = network.predict(np.array([image,]))\n",
    "    if not prediction.argmax() == label.argmax():\n",
    "        image = image.reshape(48, 48, 3)\n",
    "        fig1, ax1 = plt.subplots()\n",
    "        ax1.axis('off')\n",
    "        plt.title('predicted:' + str(prediction.argmax()))\n",
    "        fig1.add_subplot(111).imshow(image)    "
   ]
  },
  {
   "cell_type": "code",
   "execution_count": null,
   "metadata": {},
   "outputs": [],
   "source": []
  }
 ],
 "metadata": {
  "kernelspec": {
   "display_name": "Python 3",
   "language": "python",
   "name": "python3"
  },
  "language_info": {
   "codemirror_mode": {
    "name": "ipython",
    "version": 3
   },
   "file_extension": ".py",
   "mimetype": "text/x-python",
   "name": "python",
   "nbconvert_exporter": "python",
   "pygments_lexer": "ipython3",
   "version": "3.7.4"
  }
 },
 "nbformat": 4,
 "nbformat_minor": 2
}
